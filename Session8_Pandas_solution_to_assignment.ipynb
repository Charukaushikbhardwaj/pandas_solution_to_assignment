{
 "cells": [
  {
   "cell_type": "code",
   "execution_count": 6,
   "metadata": {},
   "outputs": [
    {
     "data": {
      "text/plain": [
       "[1, 2, 0, 1, 2, 3, 4, 0, 1, 2]"
      ]
     },
     "execution_count": 6,
     "metadata": {},
     "output_type": "execute_result"
    }
   ],
   "source": [
    "#QUESTION 1) How-to-count-distance-to-the-previous-zero.For each value, count the difference of the distance from the previous zero (or the start of the Series, whichever is closer) and if there are no previous zeros,print the position\n",
    "#Consider a DataFrame df where there is an integer column {'X':[7, 2, 0, 3, 4, 2, 5, 0, 3, 4]}\n",
    "#The values should therefore be [1, 2, 0, 1, 2, 3, 4, 0, 1, 2]. Make this a new column 'Y'.import pandas as pd df = pd.DataFrame({'X': [7, 2, 0, 3, 4, 2, 5, 0, 3, 4]})\n",
    "\n",
    "#solution 1\n",
    "list = [7, 2, 0, 3, 4, 2, 5, 0, 3, 4]\n",
    "i = 0\n",
    "dist2_prev_0 = []\n",
    "for element in list:\n",
    "    if element != 0:\n",
    "        i += 1\n",
    "    else:\n",
    "        i = 0\n",
    "    dist2_prev_0.append(i)\n",
    "dist2_prev_0\n"
   ]
  },
  {
   "cell_type": "code",
   "execution_count": 19,
   "metadata": {},
   "outputs": [
    {
     "data": {
      "text/plain": [
       "2015-01-01    0.952223\n",
       "2015-01-02    0.820635\n",
       "2015-01-05    0.350803\n",
       "2015-01-06    0.574100\n",
       "2015-01-07    0.256275\n",
       "2015-01-08    0.976899\n",
       "2015-01-09    0.219153\n",
       "2015-01-12    0.642243\n",
       "2015-01-13    0.607391\n",
       "2015-01-14    0.943812\n",
       "2015-01-15    0.711800\n",
       "2015-01-16    0.974230\n",
       "2015-01-19    0.652213\n",
       "2015-01-20    0.578542\n",
       "2015-01-21    0.609312\n",
       "2015-01-22    0.943420\n",
       "2015-01-23    0.388272\n",
       "2015-01-26    0.471398\n",
       "2015-01-27    0.589357\n",
       "2015-01-28    0.864099\n",
       "2015-01-29    0.987369\n",
       "2015-01-30    0.958829\n",
       "2015-02-02    0.807370\n",
       "2015-02-03    0.047914\n",
       "2015-02-04    0.898596\n",
       "2015-02-05    0.725578\n",
       "2015-02-06    0.506523\n",
       "2015-02-09    0.138665\n",
       "2015-02-10    0.400535\n",
       "2015-02-11    0.303598\n",
       "                ...   \n",
       "2015-11-20    0.316226\n",
       "2015-11-23    0.612111\n",
       "2015-11-24    0.647850\n",
       "2015-11-25    0.253268\n",
       "2015-11-26    0.275822\n",
       "2015-11-27    0.665952\n",
       "2015-11-30    0.949112\n",
       "2015-12-01    0.383849\n",
       "2015-12-02    0.675590\n",
       "2015-12-03    0.065671\n",
       "2015-12-04    0.315008\n",
       "2015-12-07    0.043751\n",
       "2015-12-08    0.677117\n",
       "2015-12-09    0.991372\n",
       "2015-12-10    0.232686\n",
       "2015-12-11    0.329828\n",
       "2015-12-14    0.020486\n",
       "2015-12-15    0.465166\n",
       "2015-12-16    0.482291\n",
       "2015-12-17    0.552337\n",
       "2015-12-18    0.889372\n",
       "2015-12-21    0.896257\n",
       "2015-12-22    0.340180\n",
       "2015-12-23    0.957536\n",
       "2015-12-24    0.420012\n",
       "2015-12-25    0.357709\n",
       "2015-12-28    0.525933\n",
       "2015-12-29    0.940992\n",
       "2015-12-30    0.986663\n",
       "2015-12-31    0.239271\n",
       "Freq: B, Length: 261, dtype: float64"
      ]
     },
     "execution_count": 19,
     "metadata": {},
     "output_type": "execute_result"
    }
   ],
   "source": [
    "#QUESTION 2 2) Create a DatetimeIndex that contains each business day of 2015 and use it to index a Series of random numbers.\n",
    "#Solution 2\n",
    "import pandas as pd\n",
    "import numpy as np\n",
    "date_time_index = pd.date_range(start='2015-01-01', end='2015-12-31', freq='B') \n",
    "date_time_index\n",
    "s = pd.Series(np.random.rand(len(date_time_index)), index=date_time_index)\n",
    "s\n"
   ]
  },
  {
   "cell_type": "code",
   "execution_count": 20,
   "metadata": {},
   "outputs": [
    {
     "data": {
      "text/plain": [
       "30.161412250902366"
      ]
     },
     "execution_count": 20,
     "metadata": {},
     "output_type": "execute_result"
    }
   ],
   "source": [
    "#QUESTION 3) Find the sum of the values in s for every Wednesday\n",
    "#Solution 3\n",
    "s[date_time_index.weekday == 3].sum() "
   ]
  },
  {
   "cell_type": "code",
   "execution_count": 22,
   "metadata": {},
   "outputs": [
    {
     "name": "stderr",
     "output_type": "stream",
     "text": [
      "C:\\Users\\pc\\Anaconda3\\lib\\site-packages\\ipykernel_launcher.py:2: FutureWarning: how in .resample() is deprecated\n",
      "the new syntax is .resample(...).mean()\n",
      "  \n"
     ]
    },
    {
     "data": {
      "text/plain": [
       "2015-01-31    0.685108\n",
       "2015-02-28    0.452577\n",
       "2015-03-31    0.498075\n",
       "2015-04-30    0.398515\n",
       "2015-05-31    0.609584\n",
       "2015-06-30    0.558479\n",
       "2015-07-31    0.492997\n",
       "2015-08-31    0.504097\n",
       "2015-09-30    0.438311\n",
       "2015-10-31    0.499722\n",
       "2015-11-30    0.504971\n",
       "2015-12-31    0.512569\n",
       "Freq: M, dtype: float64"
      ]
     },
     "execution_count": 22,
     "metadata": {},
     "output_type": "execute_result"
    }
   ],
   "source": [
    "#QUESTION 4) Average For each calendar month\n",
    "s.resample('M', how='mean')\n"
   ]
  },
  {
   "cell_type": "code",
   "execution_count": 26,
   "metadata": {},
   "outputs": [
    {
     "name": "stderr",
     "output_type": "stream",
     "text": [
      "C:\\Users\\pc\\Anaconda3\\lib\\site-packages\\ipykernel_launcher.py:3: FutureWarning: pd.TimeGrouper is deprecated and will be removed; Please use pd.Grouper(freq=...)\n",
      "  This is separate from the ipykernel package so we can avoid doing imports until\n"
     ]
    },
    {
     "data": {
      "text/plain": [
       "2015-01-31   2015-01-29\n",
       "2015-05-31   2015-03-31\n",
       "2015-09-30   2015-06-17\n",
       "2016-01-31   2015-12-09\n",
       "dtype: datetime64[ns]"
      ]
     },
     "execution_count": 26,
     "metadata": {},
     "output_type": "execute_result"
    }
   ],
   "source": [
    "#QUESTION 5) For each group of four consecutive calendar months in s, find the date on which the highest value occurred.\n",
    "#Solution 5\n",
    "s.groupby(pd.TimeGrouper('4M')).idxmax()\n"
   ]
  }
 ],
 "metadata": {
  "kernelspec": {
   "display_name": "Python 3",
   "language": "python",
   "name": "python3"
  },
  "language_info": {
   "codemirror_mode": {
    "name": "ipython",
    "version": 3
   },
   "file_extension": ".py",
   "mimetype": "text/x-python",
   "name": "python",
   "nbconvert_exporter": "python",
   "pygments_lexer": "ipython3",
   "version": "3.6.5"
  }
 },
 "nbformat": 4,
 "nbformat_minor": 2
}
